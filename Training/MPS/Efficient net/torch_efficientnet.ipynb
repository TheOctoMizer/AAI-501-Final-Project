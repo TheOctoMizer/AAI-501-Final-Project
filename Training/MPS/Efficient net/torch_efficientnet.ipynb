{
 "cells": [
  {
   "cell_type": "code",
   "execution_count": 1,
   "id": "initial_id",
   "metadata": {
    "ExecuteTime": {
     "end_time": "2024-11-15T16:19:31.905507Z",
     "start_time": "2024-11-15T16:19:31.741140Z"
    },
    "collapsed": true
   },
   "outputs": [
    {
     "ename": "ModuleNotFoundError",
     "evalue": "No module named 'torch'",
     "output_type": "error",
     "traceback": [
      "\u001b[0;31m---------------------------------------------------------------------------\u001b[0m",
      "\u001b[0;31mModuleNotFoundError\u001b[0m                       Traceback (most recent call last)",
      "Cell \u001b[0;32mIn[1], line 2\u001b[0m\n\u001b[1;32m      1\u001b[0m \u001b[38;5;28;01mimport\u001b[39;00m \u001b[38;5;21;01mjson\u001b[39;00m\n\u001b[0;32m----> 2\u001b[0m \u001b[38;5;28;01mimport\u001b[39;00m \u001b[38;5;21;01mtorch\u001b[39;00m\n\u001b[1;32m      3\u001b[0m \u001b[38;5;28;01mimport\u001b[39;00m \u001b[38;5;21;01mtorch\u001b[39;00m\u001b[38;5;21;01m.\u001b[39;00m\u001b[38;5;21;01mnn\u001b[39;00m \u001b[38;5;28;01mas\u001b[39;00m \u001b[38;5;21;01mnn\u001b[39;00m\n\u001b[1;32m      4\u001b[0m \u001b[38;5;28;01mimport\u001b[39;00m \u001b[38;5;21;01mtorch\u001b[39;00m\u001b[38;5;21;01m.\u001b[39;00m\u001b[38;5;21;01moptim\u001b[39;00m \u001b[38;5;28;01mas\u001b[39;00m \u001b[38;5;21;01moptim\u001b[39;00m\n",
      "\u001b[0;31mModuleNotFoundError\u001b[0m: No module named 'torch'"
     ]
    }
   ],
   "source": [
    "import json\n",
    "import torch\n",
    "import torch.nn as nn\n",
    "import torch.optim as optim\n",
    "from torch.utils.data import DataLoader\n",
    "from torchvision import datasets, models, transforms\n",
    "from torchvision.models import MobileNet_V3_Small_Weights\n",
    "from tqdm import tqdm"
   ]
  },
  {
   "cell_type": "code",
   "execution_count": null,
   "id": "fb169bab2b1be79",
   "metadata": {
    "ExecuteTime": {
     "end_time": "2024-11-15T16:19:32.986048Z",
     "start_time": "2024-11-15T16:19:32.974831Z"
    }
   },
   "outputs": [
    {
     "ename": "NameError",
     "evalue": "name 'torch' is not defined",
     "output_type": "error",
     "traceback": [
      "\u001b[0;31m---------------------------------------------------------------------------\u001b[0m",
      "\u001b[0;31mNameError\u001b[0m                                 Traceback (most recent call last)",
      "Cell \u001b[0;32mIn[2], line 1\u001b[0m\n\u001b[0;32m----> 1\u001b[0m device \u001b[38;5;241m=\u001b[39m \u001b[43mtorch\u001b[49m\u001b[38;5;241m.\u001b[39mdevice(\u001b[38;5;124m\"\u001b[39m\u001b[38;5;124mmps\u001b[39m\u001b[38;5;124m\"\u001b[39m \u001b[38;5;28;01mif\u001b[39;00m torch\u001b[38;5;241m.\u001b[39mbackends\u001b[38;5;241m.\u001b[39mmps\u001b[38;5;241m.\u001b[39mis_built() \u001b[38;5;28;01melse\u001b[39;00m \u001b[38;5;124m\"\u001b[39m\u001b[38;5;124mcpu\u001b[39m\u001b[38;5;124m\"\u001b[39m)\n\u001b[1;32m      2\u001b[0m \u001b[38;5;28mprint\u001b[39m(\u001b[38;5;124mf\u001b[39m\u001b[38;5;124m\"\u001b[39m\u001b[38;5;124mUsing device: \u001b[39m\u001b[38;5;132;01m{\u001b[39;00mdevice\u001b[38;5;132;01m}\u001b[39;00m\u001b[38;5;124m\"\u001b[39m)\n",
      "\u001b[0;31mNameError\u001b[0m: name 'torch' is not defined"
     ]
    }
   ],
   "source": [
    "device = torch.device(\"mps\" if torch.backends.mps.is_built() else \"cuda\" if torch.cuda.is_available() else \"cpu\")\n",
    "print(f\"Using device: {device}\")"
   ]
  },
  {
   "cell_type": "code",
   "execution_count": 71,
   "id": "24cea7dedf0c6321",
   "metadata": {
    "ExecuteTime": {
     "end_time": "2024-11-13T09:21:52.203479Z",
     "start_time": "2024-11-13T09:21:52.200889Z"
    }
   },
   "outputs": [],
   "source": [
    "data_transforms = {\n",
    "    'train': transforms.Compose([\n",
    "        transforms.RandomResizedCrop(224),\n",
    "        transforms.RandomHorizontalFlip(),\n",
    "        transforms.RandomRotation(10),\n",
    "        transforms.ColorJitter(brightness=0.2, contrast=0.2, saturation=0.2, hue=0.1),\n",
    "        transforms.ToTensor(),\n",
    "        transforms.Normalize([0.485, 0.456, 0.406], [0.229, 0.224, 0.225])\n",
    "    ]),\n",
    "    'test': transforms.Compose([\n",
    "        transforms.Resize(256),\n",
    "        transforms.CenterCrop(224),\n",
    "        transforms.ToTensor(),\n",
    "        transforms.Normalize([0.485, 0.456, 0.406], [0.229, 0.224, 0.225])\n",
    "    ])\n",
    "}"
   ]
  },
  {
   "cell_type": "code",
   "execution_count": 72,
   "id": "440b4839664b14fc",
   "metadata": {
    "ExecuteTime": {
     "end_time": "2024-11-13T09:22:21.148389Z",
     "start_time": "2024-11-13T09:22:21.120821Z"
    }
   },
   "outputs": [
    {
     "name": "stdout",
     "output_type": "stream",
     "text": [
      "Class-to-ID mapping: {'AI_GENERATED': 0, 'NON_AI_GENERATED': 1}\n"
     ]
    }
   ],
   "source": [
    "train_dataset = datasets.ImageFolder(root='../../dataset/ai_art_classification/train', transform=data_transforms['train'])\n",
    "class_to_idx = train_dataset.class_to_idx\n",
    "print(\"Class-to-ID mapping:\", class_to_idx)\n",
    "with open('class_to_idx.json', 'w') as f:\n",
    "    json.dump(class_to_idx, f)\n",
    "train_loader = DataLoader(train_dataset, batch_size=32, shuffle=True, num_workers=2, pin_memory=True)"
   ]
  },
  {
   "cell_type": "code",
   "execution_count": 83,
   "id": "f5f8ae5c6f7c364c",
   "metadata": {
    "ExecuteTime": {
     "end_time": "2024-11-13T09:22:36.736857Z",
     "start_time": "2024-11-13T09:22:28.468961Z"
    }
   },
   "outputs": [],
   "source": [
    "# model = models.efficientnet_b0(pretrained=True)\n",
    "model = models.mobilenet_v3_small(weights=MobileNet_V3_Small_Weights.DEFAULT)\n",
    "\n",
    "for param in model.features.parameters():\n",
    "    param.requires_grad = False\n",
    "# num_features = model.classifier[1].in_features\n",
    "num_features = model.classifier[3].in_features\n",
    "# model.classifier[1] = nn.Linear(num_features, 2)  # Adjusting the final layer to 2 classes\n",
    "model.classifier[3] = nn.Linear(num_features, 2)  # Adjusting the final layer to 2 classes\n",
    "\n",
    "model = model.to(device)"
   ]
  },
  {
   "cell_type": "code",
   "execution_count": 84,
   "id": "37ff4985b3b56175",
   "metadata": {
    "ExecuteTime": {
     "end_time": "2024-11-13T09:22:40.561298Z",
     "start_time": "2024-11-13T09:22:40.558160Z"
    }
   },
   "outputs": [],
   "source": [
    "criterion = nn.CrossEntropyLoss()\n",
    "# optimizer = optim.AdamW(model.parameters(), lr=1e-4, weight_decay=1e-4)\n",
    "optimizer = optim.AdamW(filter(lambda p: p.requires_grad, model.parameters()), lr=1e-4, weight_decay=1e-4)"
   ]
  },
  {
   "cell_type": "code",
   "execution_count": 85,
   "id": "7efd437a3da014f8",
   "metadata": {
    "ExecuteTime": {
     "end_time": "2024-11-13T09:22:51.694700Z",
     "start_time": "2024-11-13T09:22:51.692246Z"
    }
   },
   "outputs": [],
   "source": [
    "def train_model(model, dataloader, criterion, optimizer, num_epochs=10):\n",
    "    print(device)\n",
    "    model.to(device)\n",
    "    model.train()\n",
    "    for epoch in range(num_epochs):\n",
    "        running_loss = 0.0\n",
    "        correct = 0\n",
    "        total = 0\n",
    "        print(f\"Epoch {epoch + 1}/{num_epochs}\")\n",
    "        \n",
    "        # Training loop\n",
    "        for inputs, labels in tqdm(dataloader):\n",
    "            inputs, labels = inputs.to(device), labels.to(device)\n",
    "\n",
    "            # Forward + Backward + Optimize\n",
    "            optimizer.zero_grad()\n",
    "            outputs = model(inputs)\n",
    "            loss = criterion(outputs, labels)\n",
    "            loss.backward()\n",
    "            optimizer.step()\n",
    "\n",
    "            # Statistics\n",
    "            running_loss += loss.item() * inputs.size(0)\n",
    "            _, preds = torch.max(outputs, 1)\n",
    "            correct += torch.sum(preds == labels).item()\n",
    "            total += labels.size(0)\n",
    "\n",
    "        epoch_loss = running_loss / len(dataloader.dataset)\n",
    "        epoch_acc = correct / total\n",
    "        print(f\"Loss: {epoch_loss:.4f} Acc: {epoch_acc:.4f}\")"
   ]
  },
  {
   "cell_type": "code",
   "execution_count": 86,
   "id": "d2270ab67e91210f",
   "metadata": {
    "ExecuteTime": {
     "end_time": "2024-11-13T09:35:45.661708Z",
     "start_time": "2024-11-13T09:23:15.658270Z"
    }
   },
   "outputs": [
    {
     "name": "stdout",
     "output_type": "stream",
     "text": [
      "mps\n",
      "Epoch 1/11\n"
     ]
    },
    {
     "name": "stderr",
     "output_type": "stream",
     "text": [
      "100%|██████████| 582/582 [00:41<00:00, 13.92it/s]\n"
     ]
    },
    {
     "name": "stdout",
     "output_type": "stream",
     "text": [
      "Loss: 0.3621 Acc: 0.8432\n",
      "Epoch 2/11\n"
     ]
    },
    {
     "name": "stderr",
     "output_type": "stream",
     "text": [
      "100%|██████████| 582/582 [00:41<00:00, 13.91it/s]\n"
     ]
    },
    {
     "name": "stdout",
     "output_type": "stream",
     "text": [
      "Loss: 0.3080 Acc: 0.8717\n",
      "Epoch 3/11\n"
     ]
    },
    {
     "name": "stderr",
     "output_type": "stream",
     "text": [
      "100%|██████████| 582/582 [00:41<00:00, 14.02it/s]\n"
     ]
    },
    {
     "name": "stdout",
     "output_type": "stream",
     "text": [
      "Loss: 0.2969 Acc: 0.8746\n",
      "Epoch 4/11\n"
     ]
    },
    {
     "name": "stderr",
     "output_type": "stream",
     "text": [
      "100%|██████████| 582/582 [00:41<00:00, 13.98it/s]\n"
     ]
    },
    {
     "name": "stdout",
     "output_type": "stream",
     "text": [
      "Loss: 0.2895 Acc: 0.8810\n",
      "Epoch 5/11\n"
     ]
    },
    {
     "name": "stderr",
     "output_type": "stream",
     "text": [
      "100%|██████████| 582/582 [00:41<00:00, 14.18it/s]\n"
     ]
    },
    {
     "name": "stdout",
     "output_type": "stream",
     "text": [
      "Loss: 0.2790 Acc: 0.8806\n",
      "Epoch 6/11\n"
     ]
    },
    {
     "name": "stderr",
     "output_type": "stream",
     "text": [
      "100%|██████████| 582/582 [00:41<00:00, 14.18it/s]\n"
     ]
    },
    {
     "name": "stdout",
     "output_type": "stream",
     "text": [
      "Loss: 0.2794 Acc: 0.8802\n",
      "Epoch 7/11\n"
     ]
    },
    {
     "name": "stderr",
     "output_type": "stream",
     "text": [
      "100%|██████████| 582/582 [00:41<00:00, 13.92it/s]\n"
     ]
    },
    {
     "name": "stdout",
     "output_type": "stream",
     "text": [
      "Loss: 0.2708 Acc: 0.8850\n",
      "Epoch 8/11\n"
     ]
    },
    {
     "name": "stderr",
     "output_type": "stream",
     "text": [
      "100%|██████████| 582/582 [00:41<00:00, 14.04it/s]\n"
     ]
    },
    {
     "name": "stdout",
     "output_type": "stream",
     "text": [
      "Loss: 0.2645 Acc: 0.8864\n",
      "Epoch 9/11\n"
     ]
    },
    {
     "name": "stderr",
     "output_type": "stream",
     "text": [
      "100%|██████████| 582/582 [00:41<00:00, 13.96it/s]\n"
     ]
    },
    {
     "name": "stdout",
     "output_type": "stream",
     "text": [
      "Loss: 0.2604 Acc: 0.8906\n",
      "Epoch 10/11\n"
     ]
    },
    {
     "name": "stderr",
     "output_type": "stream",
     "text": [
      "100%|██████████| 582/582 [00:40<00:00, 14.24it/s]\n"
     ]
    },
    {
     "name": "stdout",
     "output_type": "stream",
     "text": [
      "Loss: 0.2579 Acc: 0.8942\n",
      "Epoch 11/11\n"
     ]
    },
    {
     "name": "stderr",
     "output_type": "stream",
     "text": [
      "100%|██████████| 582/582 [00:40<00:00, 14.26it/s]"
     ]
    },
    {
     "name": "stdout",
     "output_type": "stream",
     "text": [
      "Loss: 0.2519 Acc: 0.8961\n"
     ]
    },
    {
     "name": "stderr",
     "output_type": "stream",
     "text": [
      "\n"
     ]
    }
   ],
   "source": [
    "train_model(model, train_loader, criterion, optimizer, num_epochs=11)"
   ]
  },
  {
   "cell_type": "code",
   "execution_count": 87,
   "id": "6a07a9e03e68aa95",
   "metadata": {
    "ExecuteTime": {
     "end_time": "2024-11-13T09:53:58.612927Z",
     "start_time": "2024-11-13T09:53:58.526540Z"
    }
   },
   "outputs": [],
   "source": [
    "torch.save(model.state_dict(), 'model.pth')"
   ]
  },
  {
   "cell_type": "markdown",
   "id": "a364ae41417b6e0f",
   "metadata": {},
   "source": [
    "# Inference"
   ]
  },
  {
   "cell_type": "code",
   "execution_count": null,
   "id": "f8438aa6",
   "metadata": {},
   "outputs": [],
   "source": []
  },
  {
   "cell_type": "code",
   "execution_count": 88,
   "id": "3e3b33fa006607da",
   "metadata": {
    "ExecuteTime": {
     "end_time": "2024-11-13T09:54:24.004894Z",
     "start_time": "2024-11-13T09:54:24.002785Z"
    }
   },
   "outputs": [],
   "source": [
    "def inference_on_test(model, test_folder_path):\n",
    "    model.eval()\n",
    "    test_transforms = data_transforms['test']\n",
    "    test_images = datasets.ImageFolder(root=test_folder_path, transform=test_transforms)\n",
    "    test_loader = DataLoader(test_images, batch_size=1, shuffle=False)\n",
    "\n",
    "    file_names = []\n",
    "    predictions = []\n",
    "    with torch.no_grad():\n",
    "        for i, (inputs, _) in enumerate(test_loader):\n",
    "            inputs = inputs.to(device)\n",
    "            outputs = model(inputs)\n",
    "            _, preds = torch.max(outputs, 1)\n",
    "\n",
    "            # Get the file name from the test_images dataset\n",
    "            file_name = test_images.samples[i][0]\n",
    "            file_names.append(file_name)\n",
    "            predictions.append(preds.item())\n",
    "\n",
    "    return file_names, predictions"
   ]
  },
  {
   "cell_type": "code",
   "execution_count": 89,
   "id": "d119765b",
   "metadata": {},
   "outputs": [],
   "source": [
    "with open('class_to_idx.json', 'r') as f:\n",
    "    class_to_idx = json.load(f)"
   ]
  },
  {
   "cell_type": "code",
   "execution_count": 90,
   "id": "b8ad2b36",
   "metadata": {},
   "outputs": [
    {
     "name": "stdout",
     "output_type": "stream",
     "text": [
      "ID-to-Class mapping: {0: 'AI_GENERATED', 1: 'NON_AI_GENERATED'}\n"
     ]
    }
   ],
   "source": [
    "idx_to_class = {v: k for k, v in class_to_idx.items()}\n",
    "print(\"ID-to-Class mapping:\", idx_to_class)"
   ]
  },
  {
   "cell_type": "code",
   "execution_count": null,
   "id": "880050771433601d",
   "metadata": {
    "ExecuteTime": {
     "end_time": "2024-11-13T09:58:26.048707Z",
     "start_time": "2024-11-13T09:58:25.778048Z"
    }
   },
   "outputs": [
    {
     "name": "stdout",
     "output_type": "stream",
     "text": [
      "Predictions for test images: [0, 1, 0, 1, 0]\n",
      "Predicted labels: ['AI_GENERATED', 'NON_AI_GENERATED', 'AI_GENERATED', 'NON_AI_GENERATED', 'AI_GENERATED']\n",
      "Files: ['Test/test/1.jpg', 'Test/test/3.jpg', 'Test/test/DSC_0255.JPG', 'Test/test/Portrait .jpg', 'Test/test/apple.jpeg']\n"
     ]
    }
   ],
   "source": [
    "test_folder_path = 'Test'\n",
    "files, predictions = inference_on_test(model, test_folder_path)\n",
    "predicted_labels = [idx_to_class[pred] for pred in predictions]\n",
    "print(\"Predictions for test images:\", predictions)\n",
    "print(F\"Predicted labels: {predicted_labels}\")\n",
    "print(F\"Files: {files}\")"
   ]
  },
  {
   "cell_type": "code",
   "execution_count": null,
   "id": "f399bb51afff81ec",
   "metadata": {},
   "outputs": [],
   "source": []
  }
 ],
 "metadata": {
  "kernelspec": {
   "display_name": "AAI-501-Final-Project",
   "language": "python",
   "name": "python3"
  },
  "language_info": {
   "codemirror_mode": {
    "name": "ipython",
    "version": 3
   },
   "file_extension": ".py",
   "mimetype": "text/x-python",
   "name": "python",
   "nbconvert_exporter": "python",
   "pygments_lexer": "ipython3",
   "version": "3.11.10"
  }
 },
 "nbformat": 4,
 "nbformat_minor": 5
}
