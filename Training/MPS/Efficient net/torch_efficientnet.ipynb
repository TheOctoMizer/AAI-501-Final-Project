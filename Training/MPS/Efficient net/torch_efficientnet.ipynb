{
 "cells": [
  {
   "cell_type": "code",
   "execution_count": 1,
   "id": "initial_id",
   "metadata": {
    "ExecuteTime": {
     "end_time": "2024-11-15T16:19:31.905507Z",
     "start_time": "2024-11-15T16:19:31.741140Z"
    },
    "collapsed": true
   },
   "outputs": [],
   "source": [
    "import json\n",
    "import torch\n",
    "import torch.nn as nn\n",
    "import torch.optim as optim\n",
    "from torch.utils.data import DataLoader\n",
    "from torchvision import datasets, models, transforms\n",
    "from torchvision.models import MobileNet_V3_Small_Weights\n",
    "from tqdm import tqdm"
   ]
  },
  {
   "cell_type": "code",
   "execution_count": 2,
   "id": "fb169bab2b1be79",
   "metadata": {
    "ExecuteTime": {
     "end_time": "2024-11-15T16:19:32.986048Z",
     "start_time": "2024-11-15T16:19:32.974831Z"
    }
   },
   "outputs": [
    {
     "name": "stdout",
     "output_type": "stream",
     "text": [
      "Using device: mps\n"
     ]
    }
   ],
   "source": [
    "device = torch.device(\"mps\" if torch.backends.mps.is_built() else \"cuda\" if torch.cuda.is_available() else \"cpu\")\n",
    "print(f\"Using device: {device}\")"
   ]
  },
  {
   "cell_type": "code",
   "execution_count": 71,
   "id": "24cea7dedf0c6321",
   "metadata": {
    "ExecuteTime": {
     "end_time": "2024-11-13T09:21:52.203479Z",
     "start_time": "2024-11-13T09:21:52.200889Z"
    }
   },
   "outputs": [],
   "source": [
    "data_transforms = {\n",
    "    'train': transforms.Compose([\n",
    "        transforms.RandomResizedCrop(224),\n",
    "        transforms.RandomHorizontalFlip(),\n",
    "        transforms.RandomRotation(10),\n",
    "        transforms.ColorJitter(brightness=0.2, contrast=0.2, saturation=0.2, hue=0.1),\n",
    "        transforms.ToTensor(),\n",
    "        transforms.Normalize([0.485, 0.456, 0.406], [0.229, 0.224, 0.225])\n",
    "    ]),\n",
    "    'test': transforms.Compose([\n",
    "        transforms.Resize(256),\n",
    "        transforms.CenterCrop(224),\n",
    "        transforms.ToTensor(),\n",
    "        transforms.Normalize([0.485, 0.456, 0.406], [0.229, 0.224, 0.225])\n",
    "    ])\n",
    "}"
   ]
  },
  {
   "cell_type": "code",
   "execution_count": 72,
   "id": "440b4839664b14fc",
   "metadata": {
    "ExecuteTime": {
     "end_time": "2024-11-13T09:22:21.148389Z",
     "start_time": "2024-11-13T09:22:21.120821Z"
    }
   },
   "outputs": [
    {
     "name": "stdout",
     "output_type": "stream",
     "text": [
      "Class-to-ID mapping: {'AI_GENERATED': 0, 'NON_AI_GENERATED': 1}\n"
     ]
    }
   ],
   "source": [
    "train_dataset = datasets.ImageFolder(root='../../dataset/ai_art_classification/train', transform=data_transforms['train'])\n",
    "class_to_idx = train_dataset.class_to_idx\n",
    "print(\"Class-to-ID mapping:\", class_to_idx)\n",
    "with open('class_to_idx.json', 'w') as f:\n",
    "    json.dump(class_to_idx, f)\n",
    "train_loader = DataLoader(train_dataset, batch_size=32, shuffle=True, num_workers=2, pin_memory=True)"
   ]
  },
  {
   "cell_type": "code",
   "execution_count": 83,
   "id": "f5f8ae5c6f7c364c",
   "metadata": {
    "ExecuteTime": {
     "end_time": "2024-11-13T09:22:36.736857Z",
     "start_time": "2024-11-13T09:22:28.468961Z"
    }
   },
   "outputs": [],
   "source": [
    "# model = models.efficientnet_b0(pretrained=True)\n",
    "model = models.mobilenet_v3_small(weights=MobileNet_V3_Small_Weights.DEFAULT)\n",
    "\n",
    "for param in model.features.parameters():\n",
    "    param.requires_grad = False\n",
    "# num_features = model.classifier[1].in_features\n",
    "num_features = model.classifier[3].in_features\n",
    "# model.classifier[1] = nn.Linear(num_features, 2)  # Adjusting the final layer to 2 classes\n",
    "model.classifier[3] = nn.Linear(num_features, 2)  # Adjusting the final layer to 2 classes\n",
    "\n",
    "model = model.to(device)"
   ]
  },
  {
   "cell_type": "code",
   "execution_count": 84,
   "id": "37ff4985b3b56175",
   "metadata": {
    "ExecuteTime": {
     "end_time": "2024-11-13T09:22:40.561298Z",
     "start_time": "2024-11-13T09:22:40.558160Z"
    }
   },
   "outputs": [],
   "source": [
    "criterion = nn.CrossEntropyLoss()\n",
    "# optimizer = optim.AdamW(model.parameters(), lr=1e-4, weight_decay=1e-4)\n",
    "optimizer = optim.AdamW(filter(lambda p: p.requires_grad, model.parameters()), lr=1e-4, weight_decay=1e-4)"
   ]
  },
  {
   "cell_type": "code",
   "execution_count": 85,
   "id": "7efd437a3da014f8",
   "metadata": {
    "ExecuteTime": {
     "end_time": "2024-11-13T09:22:51.694700Z",
     "start_time": "2024-11-13T09:22:51.692246Z"
    }
   },
   "outputs": [],
   "source": [
    "def train_model(model, dataloader, criterion, optimizer, num_epochs=10):\n",
    "    print(device)\n",
    "    model.to(device)\n",
    "    model.train()\n",
    "    for epoch in range(num_epochs):\n",
    "        running_loss = 0.0\n",
    "        correct = 0\n",
    "        total = 0\n",
    "        print(f\"Epoch {epoch + 1}/{num_epochs}\")\n",
    "        \n",
    "        # Training loop\n",
    "        for inputs, labels in tqdm(dataloader):\n",
    "            inputs, labels = inputs.to(device), labels.to(device)\n",
    "\n",
    "            # Forward + Backward + Optimize\n",
    "            optimizer.zero_grad()\n",
    "            outputs = model(inputs)\n",
    "            loss = criterion(outputs, labels)\n",
    "            loss.backward()\n",
    "            optimizer.step()\n",
    "\n",
    "            # Statistics\n",
    "            running_loss += loss.item() * inputs.size(0)\n",
    "            _, preds = torch.max(outputs, 1)\n",
    "            correct += torch.sum(preds == labels).item()\n",
    "            total += labels.size(0)\n",
    "\n",
    "        epoch_loss = running_loss / len(dataloader.dataset)\n",
    "        epoch_acc = correct / total\n",
    "        print(f\"Loss: {epoch_loss:.4f} Acc: {epoch_acc:.4f}\")"
   ]
  },
  {
   "cell_type": "code",
   "execution_count": 86,
   "id": "d2270ab67e91210f",
   "metadata": {
    "ExecuteTime": {
     "end_time": "2024-11-13T09:35:45.661708Z",
     "start_time": "2024-11-13T09:23:15.658270Z"
    }
   },
   "outputs": [
    {
     "name": "stdout",
     "output_type": "stream",
     "text": [
      "mps\n",
      "Epoch 1/11\n"
     ]
    },
    {
     "name": "stderr",
     "output_type": "stream",
     "text": [
      "100%|██████████| 582/582 [00:41<00:00, 13.92it/s]\n"
     ]
    },
    {
     "name": "stdout",
     "output_type": "stream",
     "text": [
      "Loss: 0.3621 Acc: 0.8432\n",
      "Epoch 2/11\n"
     ]
    },
    {
     "name": "stderr",
     "output_type": "stream",
     "text": [
      "100%|██████████| 582/582 [00:41<00:00, 13.91it/s]\n"
     ]
    },
    {
     "name": "stdout",
     "output_type": "stream",
     "text": [
      "Loss: 0.3080 Acc: 0.8717\n",
      "Epoch 3/11\n"
     ]
    },
    {
     "name": "stderr",
     "output_type": "stream",
     "text": [
      "100%|██████████| 582/582 [00:41<00:00, 14.02it/s]\n"
     ]
    },
    {
     "name": "stdout",
     "output_type": "stream",
     "text": [
      "Loss: 0.2969 Acc: 0.8746\n",
      "Epoch 4/11\n"
     ]
    },
    {
     "name": "stderr",
     "output_type": "stream",
     "text": [
      "100%|██████████| 582/582 [00:41<00:00, 13.98it/s]\n"
     ]
    },
    {
     "name": "stdout",
     "output_type": "stream",
     "text": [
      "Loss: 0.2895 Acc: 0.8810\n",
      "Epoch 5/11\n"
     ]
    },
    {
     "name": "stderr",
     "output_type": "stream",
     "text": [
      "100%|██████████| 582/582 [00:41<00:00, 14.18it/s]\n"
     ]
    },
    {
     "name": "stdout",
     "output_type": "stream",
     "text": [
      "Loss: 0.2790 Acc: 0.8806\n",
      "Epoch 6/11\n"
     ]
    },
    {
     "name": "stderr",
     "output_type": "stream",
     "text": [
      "100%|██████████| 582/582 [00:41<00:00, 14.18it/s]\n"
     ]
    },
    {
     "name": "stdout",
     "output_type": "stream",
     "text": [
      "Loss: 0.2794 Acc: 0.8802\n",
      "Epoch 7/11\n"
     ]
    },
    {
     "name": "stderr",
     "output_type": "stream",
     "text": [
      "100%|██████████| 582/582 [00:41<00:00, 13.92it/s]\n"
     ]
    },
    {
     "name": "stdout",
     "output_type": "stream",
     "text": [
      "Loss: 0.2708 Acc: 0.8850\n",
      "Epoch 8/11\n"
     ]
    },
    {
     "name": "stderr",
     "output_type": "stream",
     "text": [
      "100%|██████████| 582/582 [00:41<00:00, 14.04it/s]\n"
     ]
    },
    {
     "name": "stdout",
     "output_type": "stream",
     "text": [
      "Loss: 0.2645 Acc: 0.8864\n",
      "Epoch 9/11\n"
     ]
    },
    {
     "name": "stderr",
     "output_type": "stream",
     "text": [
      "100%|██████████| 582/582 [00:41<00:00, 13.96it/s]\n"
     ]
    },
    {
     "name": "stdout",
     "output_type": "stream",
     "text": [
      "Loss: 0.2604 Acc: 0.8906\n",
      "Epoch 10/11\n"
     ]
    },
    {
     "name": "stderr",
     "output_type": "stream",
     "text": [
      "100%|██████████| 582/582 [00:40<00:00, 14.24it/s]\n"
     ]
    },
    {
     "name": "stdout",
     "output_type": "stream",
     "text": [
      "Loss: 0.2579 Acc: 0.8942\n",
      "Epoch 11/11\n"
     ]
    },
    {
     "name": "stderr",
     "output_type": "stream",
     "text": [
      "100%|██████████| 582/582 [00:40<00:00, 14.26it/s]"
     ]
    },
    {
     "name": "stdout",
     "output_type": "stream",
     "text": [
      "Loss: 0.2519 Acc: 0.8961\n"
     ]
    },
    {
     "name": "stderr",
     "output_type": "stream",
     "text": [
      "\n"
     ]
    }
   ],
   "source": [
    "train_model(model, train_loader, criterion, optimizer, num_epochs=11)"
   ]
  },
  {
   "cell_type": "code",
   "execution_count": 87,
   "id": "6a07a9e03e68aa95",
   "metadata": {
    "ExecuteTime": {
     "end_time": "2024-11-13T09:53:58.612927Z",
     "start_time": "2024-11-13T09:53:58.526540Z"
    }
   },
   "outputs": [],
   "source": [
    "torch.save(model.state_dict(), 'model.pth')"
   ]
  },
  {
   "cell_type": "markdown",
   "id": "a364ae41417b6e0f",
   "metadata": {},
   "source": [
    "# Inference"
   ]
  },
  {
   "cell_type": "code",
   "execution_count": 3,
   "id": "f8438aa6",
   "metadata": {},
   "outputs": [
    {
     "name": "stderr",
     "output_type": "stream",
     "text": [
      "/var/folders/d9/34q0n1js31x765w00t009x6c0000gn/T/ipykernel_8754/189734268.py:8: FutureWarning: You are using `torch.load` with `weights_only=False` (the current default value), which uses the default pickle module implicitly. It is possible to construct malicious pickle data which will execute arbitrary code during unpickling (See https://github.com/pytorch/pytorch/blob/main/SECURITY.md#untrusted-models for more details). In a future release, the default value for `weights_only` will be flipped to `True`. This limits the functions that could be executed during unpickling. Arbitrary objects will no longer be allowed to be loaded via this mode unless they are explicitly allowlisted by the user via `torch.serialization.add_safe_globals`. We recommend you start setting `weights_only=True` for any use case where you don't have full control of the loaded file. Please open an issue on GitHub for any issues related to this experimental feature.\n",
      "  model.load_state_dict(torch.load('model.pth'))\n"
     ]
    },
    {
     "ename": "RuntimeError",
     "evalue": "Error(s) in loading state_dict for MobileNetV3:\n\tMissing key(s) in state_dict: \"features.0.0.weight\", \"features.0.1.weight\", \"features.0.1.bias\", \"features.0.1.running_mean\", \"features.0.1.running_var\", \"features.1.block.0.0.weight\", \"features.1.block.0.1.weight\", \"features.1.block.0.1.bias\", \"features.1.block.0.1.running_mean\", \"features.1.block.0.1.running_var\", \"features.1.block.1.fc1.weight\", \"features.1.block.1.fc1.bias\", \"features.1.block.1.fc2.weight\", \"features.1.block.1.fc2.bias\", \"features.1.block.2.0.weight\", \"features.1.block.2.1.weight\", \"features.1.block.2.1.bias\", \"features.1.block.2.1.running_mean\", \"features.1.block.2.1.running_var\", \"features.2.block.0.0.weight\", \"features.2.block.0.1.weight\", \"features.2.block.0.1.bias\", \"features.2.block.0.1.running_mean\", \"features.2.block.0.1.running_var\", \"features.2.block.1.0.weight\", \"features.2.block.1.1.weight\", \"features.2.block.1.1.bias\", \"features.2.block.1.1.running_mean\", \"features.2.block.1.1.running_var\", \"features.2.block.2.0.weight\", \"features.2.block.2.1.weight\", \"features.2.block.2.1.bias\", \"features.2.block.2.1.running_mean\", \"features.2.block.2.1.running_var\", \"features.3.block.0.0.weight\", \"features.3.block.0.1.weight\", \"features.3.block.0.1.bias\", \"features.3.block.0.1.running_mean\", \"features.3.block.0.1.running_var\", \"features.3.block.1.0.weight\", \"features.3.block.1.1.weight\", \"features.3.block.1.1.bias\", \"features.3.block.1.1.running_mean\", \"features.3.block.1.1.running_var\", \"features.3.block.2.0.weight\", \"features.3.block.2.1.weight\", \"features.3.block.2.1.bias\", \"features.3.block.2.1.running_mean\", \"features.3.block.2.1.running_var\", \"features.4.block.0.0.weight\", \"features.4.block.0.1.weight\", \"features.4.block.0.1.bias\", \"features.4.block.0.1.running_mean\", \"features.4.block.0.1.running_var\", \"features.4.block.1.0.weight\", \"features.4.block.1.1.weight\", \"features.4.block.1.1.bias\", \"features.4.block.1.1.running_mean\", \"features.4.block.1.1.running_var\", \"features.4.block.2.fc1.weight\", \"features.4.block.2.fc1.bias\", \"features.4.block.2.fc2.weight\", \"features.4.block.2.fc2.bias\", \"features.4.block.3.0.weight\", \"features.4.block.3.1.weight\", \"features.4.block.3.1.bias\", \"features.4.block.3.1.running_mean\", \"features.4.block.3.1.running_var\", \"features.5.block.0.0.weight\", \"features.5.block.0.1.weight\", \"features.5.block.0.1.bias\", \"features.5.block.0.1.running_mean\", \"features.5.block.0.1.running_var\", \"features.5.block.1.0.weight\", \"features.5.block.1.1.weight\", \"features.5.block.1.1.bias\", \"features.5.block.1.1.running_mean\", \"features.5.block.1.1.running_var\", \"features.5.block.2.fc1.weight\", \"features.5.block.2.fc1.bias\", \"features.5.block.2.fc2.weight\", \"features.5.block.2.fc2.bias\", \"features.5.block.3.0.weight\", \"features.5.block.3.1.weight\", \"features.5.block.3.1.bias\", \"features.5.block.3.1.running_mean\", \"features.5.block.3.1.running_var\", \"features.6.block.0.0.weight\", \"features.6.block.0.1.weight\", \"features.6.block.0.1.bias\", \"features.6.block.0.1.running_mean\", \"features.6.block.0.1.running_var\", \"features.6.block.1.0.weight\", \"features.6.block.1.1.weight\", \"features.6.block.1.1.bias\", \"features.6.block.1.1.running_mean\", \"features.6.block.1.1.running_var\", \"features.6.block.2.fc1.weight\", \"features.6.block.2.fc1.bias\", \"features.6.block.2.fc2.weight\", \"features.6.block.2.fc2.bias\", \"features.6.block.3.0.weight\", \"features.6.block.3.1.weight\", \"features.6.block.3.1.bias\", \"features.6.block.3.1.running_mean\", \"features.6.block.3.1.running_var\", \"features.7.block.0.0.weight\", \"features.7.block.0.1.weight\", \"features.7.block.0.1.bias\", \"features.7.block.0.1.running_mean\", \"features.7.block.0.1.running_var\", \"features.7.block.1.0.weight\", \"features.7.block.1.1.weight\", \"features.7.block.1.1.bias\", \"features.7.block.1.1.running_mean\", \"features.7.block.1.1.running_var\", \"features.7.block.2.fc1.weight\", \"features.7.block.2.fc1.bias\", \"features.7.block.2.fc2.weight\", \"features.7.block.2.fc2.bias\", \"features.7.block.3.0.weight\", \"features.7.block.3.1.weight\", \"features.7.block.3.1.bias\", \"features.7.block.3.1.running_mean\", \"features.7.block.3.1.running_var\", \"features.8.block.0.0.weight\", \"features.8.block.0.1.weight\", \"features.8.block.0.1.bias\", \"features.8.block.0.1.running_mean\", \"features.8.block.0.1.running_var\", \"features.8.block.1.0.weight\", \"features.8.block.1.1.weight\", \"features.8.block.1.1.bias\", \"features.8.block.1.1.running_mean\", \"features.8.block.1.1.running_var\", \"features.8.block.2.fc1.weight\", \"features.8.block.2.fc1.bias\", \"features.8.block.2.fc2.weight\", \"features.8.block.2.fc2.bias\", \"features.8.block.3.0.weight\", \"features.8.block.3.1.weight\", \"features.8.block.3.1.bias\", \"features.8.block.3.1.running_mean\", \"features.8.block.3.1.running_var\", \"features.9.block.0.0.weight\", \"features.9.block.0.1.weight\", \"features.9.block.0.1.bias\", \"features.9.block.0.1.running_mean\", \"features.9.block.0.1.running_var\", \"features.9.block.1.0.weight\", \"features.9.block.1.1.weight\", \"features.9.block.1.1.bias\", \"features.9.block.1.1.running_mean\", \"features.9.block.1.1.running_var\", \"features.9.block.2.fc1.weight\", \"features.9.block.2.fc1.bias\", \"features.9.block.2.fc2.weight\", \"features.9.block.2.fc2.bias\", \"features.9.block.3.0.weight\", \"features.9.block.3.1.weight\", \"features.9.block.3.1.bias\", \"features.9.block.3.1.running_mean\", \"features.9.block.3.1.running_var\", \"features.10.block.0.0.weight\", \"features.10.block.0.1.weight\", \"features.10.block.0.1.bias\", \"features.10.block.0.1.running_mean\", \"features.10.block.0.1.running_var\", \"features.10.block.1.0.weight\", \"features.10.block.1.1.weight\", \"features.10.block.1.1.bias\", \"features.10.block.1.1.running_mean\", \"features.10.block.1.1.running_var\", \"features.10.block.2.fc1.weight\", \"features.10.block.2.fc1.bias\", \"features.10.block.2.fc2.weight\", \"features.10.block.2.fc2.bias\", \"features.10.block.3.0.weight\", \"features.10.block.3.1.weight\", \"features.10.block.3.1.bias\", \"features.10.block.3.1.running_mean\", \"features.10.block.3.1.running_var\", \"features.11.block.0.0.weight\", \"features.11.block.0.1.weight\", \"features.11.block.0.1.bias\", \"features.11.block.0.1.running_mean\", \"features.11.block.0.1.running_var\", \"features.11.block.1.0.weight\", \"features.11.block.1.1.weight\", \"features.11.block.1.1.bias\", \"features.11.block.1.1.running_mean\", \"features.11.block.1.1.running_var\", \"features.11.block.2.fc1.weight\", \"features.11.block.2.fc1.bias\", \"features.11.block.2.fc2.weight\", \"features.11.block.2.fc2.bias\", \"features.11.block.3.0.weight\", \"features.11.block.3.1.weight\", \"features.11.block.3.1.bias\", \"features.11.block.3.1.running_mean\", \"features.11.block.3.1.running_var\", \"features.12.0.weight\", \"features.12.1.weight\", \"features.12.1.bias\", \"features.12.1.running_mean\", \"features.12.1.running_var\", \"classifier.0.weight\", \"classifier.0.bias\", \"classifier.3.weight\", \"classifier.3.bias\". \n\tUnexpected key(s) in state_dict: \"conv1.weight\", \"bn1.weight\", \"bn1.bias\", \"bn1.running_mean\", \"bn1.running_var\", \"bn1.num_batches_tracked\", \"layer1.0.conv1.weight\", \"layer1.0.bn1.weight\", \"layer1.0.bn1.bias\", \"layer1.0.bn1.running_mean\", \"layer1.0.bn1.running_var\", \"layer1.0.bn1.num_batches_tracked\", \"layer1.0.conv2.weight\", \"layer1.0.bn2.weight\", \"layer1.0.bn2.bias\", \"layer1.0.bn2.running_mean\", \"layer1.0.bn2.running_var\", \"layer1.0.bn2.num_batches_tracked\", \"layer1.0.conv3.weight\", \"layer1.0.bn3.weight\", \"layer1.0.bn3.bias\", \"layer1.0.bn3.running_mean\", \"layer1.0.bn3.running_var\", \"layer1.0.bn3.num_batches_tracked\", \"layer1.0.downsample.0.weight\", \"layer1.0.downsample.1.weight\", \"layer1.0.downsample.1.bias\", \"layer1.0.downsample.1.running_mean\", \"layer1.0.downsample.1.running_var\", \"layer1.0.downsample.1.num_batches_tracked\", \"layer1.1.conv1.weight\", \"layer1.1.bn1.weight\", \"layer1.1.bn1.bias\", \"layer1.1.bn1.running_mean\", \"layer1.1.bn1.running_var\", \"layer1.1.bn1.num_batches_tracked\", \"layer1.1.conv2.weight\", \"layer1.1.bn2.weight\", \"layer1.1.bn2.bias\", \"layer1.1.bn2.running_mean\", \"layer1.1.bn2.running_var\", \"layer1.1.bn2.num_batches_tracked\", \"layer1.1.conv3.weight\", \"layer1.1.bn3.weight\", \"layer1.1.bn3.bias\", \"layer1.1.bn3.running_mean\", \"layer1.1.bn3.running_var\", \"layer1.1.bn3.num_batches_tracked\", \"layer1.2.conv1.weight\", \"layer1.2.bn1.weight\", \"layer1.2.bn1.bias\", \"layer1.2.bn1.running_mean\", \"layer1.2.bn1.running_var\", \"layer1.2.bn1.num_batches_tracked\", \"layer1.2.conv2.weight\", \"layer1.2.bn2.weight\", \"layer1.2.bn2.bias\", \"layer1.2.bn2.running_mean\", \"layer1.2.bn2.running_var\", \"layer1.2.bn2.num_batches_tracked\", \"layer1.2.conv3.weight\", \"layer1.2.bn3.weight\", \"layer1.2.bn3.bias\", \"layer1.2.bn3.running_mean\", \"layer1.2.bn3.running_var\", \"layer1.2.bn3.num_batches_tracked\", \"layer2.0.conv1.weight\", \"layer2.0.bn1.weight\", \"layer2.0.bn1.bias\", \"layer2.0.bn1.running_mean\", \"layer2.0.bn1.running_var\", \"layer2.0.bn1.num_batches_tracked\", \"layer2.0.conv2.weight\", \"layer2.0.bn2.weight\", \"layer2.0.bn2.bias\", \"layer2.0.bn2.running_mean\", \"layer2.0.bn2.running_var\", \"layer2.0.bn2.num_batches_tracked\", \"layer2.0.conv3.weight\", \"layer2.0.bn3.weight\", \"layer2.0.bn3.bias\", \"layer2.0.bn3.running_mean\", \"layer2.0.bn3.running_var\", \"layer2.0.bn3.num_batches_tracked\", \"layer2.0.downsample.0.weight\", \"layer2.0.downsample.1.weight\", \"layer2.0.downsample.1.bias\", \"layer2.0.downsample.1.running_mean\", \"layer2.0.downsample.1.running_var\", \"layer2.0.downsample.1.num_batches_tracked\", \"layer2.1.conv1.weight\", \"layer2.1.bn1.weight\", \"layer2.1.bn1.bias\", \"layer2.1.bn1.running_mean\", \"layer2.1.bn1.running_var\", \"layer2.1.bn1.num_batches_tracked\", \"layer2.1.conv2.weight\", \"layer2.1.bn2.weight\", \"layer2.1.bn2.bias\", \"layer2.1.bn2.running_mean\", \"layer2.1.bn2.running_var\", \"layer2.1.bn2.num_batches_tracked\", \"layer2.1.conv3.weight\", \"layer2.1.bn3.weight\", \"layer2.1.bn3.bias\", \"layer2.1.bn3.running_mean\", \"layer2.1.bn3.running_var\", \"layer2.1.bn3.num_batches_tracked\", \"layer2.2.conv1.weight\", \"layer2.2.bn1.weight\", \"layer2.2.bn1.bias\", \"layer2.2.bn1.running_mean\", \"layer2.2.bn1.running_var\", \"layer2.2.bn1.num_batches_tracked\", \"layer2.2.conv2.weight\", \"layer2.2.bn2.weight\", \"layer2.2.bn2.bias\", \"layer2.2.bn2.running_mean\", \"layer2.2.bn2.running_var\", \"layer2.2.bn2.num_batches_tracked\", \"layer2.2.conv3.weight\", \"layer2.2.bn3.weight\", \"layer2.2.bn3.bias\", \"layer2.2.bn3.running_mean\", \"layer2.2.bn3.running_var\", \"layer2.2.bn3.num_batches_tracked\", \"layer2.3.conv1.weight\", \"layer2.3.bn1.weight\", \"layer2.3.bn1.bias\", \"layer2.3.bn1.running_mean\", \"layer2.3.bn1.running_var\", \"layer2.3.bn1.num_batches_tracked\", \"layer2.3.conv2.weight\", \"layer2.3.bn2.weight\", \"layer2.3.bn2.bias\", \"layer2.3.bn2.running_mean\", \"layer2.3.bn2.running_var\", \"layer2.3.bn2.num_batches_tracked\", \"layer2.3.conv3.weight\", \"layer2.3.bn3.weight\", \"layer2.3.bn3.bias\", \"layer2.3.bn3.running_mean\", \"layer2.3.bn3.running_var\", \"layer2.3.bn3.num_batches_tracked\", \"layer3.0.conv1.weight\", \"layer3.0.bn1.weight\", \"layer3.0.bn1.bias\", \"layer3.0.bn1.running_mean\", \"layer3.0.bn1.running_var\", \"layer3.0.bn1.num_batches_tracked\", \"layer3.0.conv2.weight\", \"layer3.0.bn2.weight\", \"layer3.0.bn2.bias\", \"layer3.0.bn2.running_mean\", \"layer3.0.bn2.running_var\", \"layer3.0.bn2.num_batches_tracked\", \"layer3.0.conv3.weight\", \"layer3.0.bn3.weight\", \"layer3.0.bn3.bias\", \"layer3.0.bn3.running_mean\", \"layer3.0.bn3.running_var\", \"layer3.0.bn3.num_batches_tracked\", \"layer3.0.downsample.0.weight\", \"layer3.0.downsample.1.weight\", \"layer3.0.downsample.1.bias\", \"layer3.0.downsample.1.running_mean\", \"layer3.0.downsample.1.running_var\", \"layer3.0.downsample.1.num_batches_tracked\", \"layer3.1.conv1.weight\", \"layer3.1.bn1.weight\", \"layer3.1.bn1.bias\", \"layer3.1.bn1.running_mean\", \"layer3.1.bn1.running_var\", \"layer3.1.bn1.num_batches_tracked\", \"layer3.1.conv2.weight\", \"layer3.1.bn2.weight\", \"layer3.1.bn2.bias\", \"layer3.1.bn2.running_mean\", \"layer3.1.bn2.running_var\", \"layer3.1.bn2.num_batches_tracked\", \"layer3.1.conv3.weight\", \"layer3.1.bn3.weight\", \"layer3.1.bn3.bias\", \"layer3.1.bn3.running_mean\", \"layer3.1.bn3.running_var\", \"layer3.1.bn3.num_batches_tracked\", \"layer3.2.conv1.weight\", \"layer3.2.bn1.weight\", \"layer3.2.bn1.bias\", \"layer3.2.bn1.running_mean\", \"layer3.2.bn1.running_var\", \"layer3.2.bn1.num_batches_tracked\", \"layer3.2.conv2.weight\", \"layer3.2.bn2.weight\", \"layer3.2.bn2.bias\", \"layer3.2.bn2.running_mean\", \"layer3.2.bn2.running_var\", \"layer3.2.bn2.num_batches_tracked\", \"layer3.2.conv3.weight\", \"layer3.2.bn3.weight\", \"layer3.2.bn3.bias\", \"layer3.2.bn3.running_mean\", \"layer3.2.bn3.running_var\", \"layer3.2.bn3.num_batches_tracked\", \"layer3.3.conv1.weight\", \"layer3.3.bn1.weight\", \"layer3.3.bn1.bias\", \"layer3.3.bn1.running_mean\", \"layer3.3.bn1.running_var\", \"layer3.3.bn1.num_batches_tracked\", \"layer3.3.conv2.weight\", \"layer3.3.bn2.weight\", \"layer3.3.bn2.bias\", \"layer3.3.bn2.running_mean\", \"layer3.3.bn2.running_var\", \"layer3.3.bn2.num_batches_tracked\", \"layer3.3.conv3.weight\", \"layer3.3.bn3.weight\", \"layer3.3.bn3.bias\", \"layer3.3.bn3.running_mean\", \"layer3.3.bn3.running_var\", \"layer3.3.bn3.num_batches_tracked\", \"layer3.4.conv1.weight\", \"layer3.4.bn1.weight\", \"layer3.4.bn1.bias\", \"layer3.4.bn1.running_mean\", \"layer3.4.bn1.running_var\", \"layer3.4.bn1.num_batches_tracked\", \"layer3.4.conv2.weight\", \"layer3.4.bn2.weight\", \"layer3.4.bn2.bias\", \"layer3.4.bn2.running_mean\", \"layer3.4.bn2.running_var\", \"layer3.4.bn2.num_batches_tracked\", \"layer3.4.conv3.weight\", \"layer3.4.bn3.weight\", \"layer3.4.bn3.bias\", \"layer3.4.bn3.running_mean\", \"layer3.4.bn3.running_var\", \"layer3.4.bn3.num_batches_tracked\", \"layer3.5.conv1.weight\", \"layer3.5.bn1.weight\", \"layer3.5.bn1.bias\", \"layer3.5.bn1.running_mean\", \"layer3.5.bn1.running_var\", \"layer3.5.bn1.num_batches_tracked\", \"layer3.5.conv2.weight\", \"layer3.5.bn2.weight\", \"layer3.5.bn2.bias\", \"layer3.5.bn2.running_mean\", \"layer3.5.bn2.running_var\", \"layer3.5.bn2.num_batches_tracked\", \"layer3.5.conv3.weight\", \"layer3.5.bn3.weight\", \"layer3.5.bn3.bias\", \"layer3.5.bn3.running_mean\", \"layer3.5.bn3.running_var\", \"layer3.5.bn3.num_batches_tracked\", \"layer4.0.conv1.weight\", \"layer4.0.bn1.weight\", \"layer4.0.bn1.bias\", \"layer4.0.bn1.running_mean\", \"layer4.0.bn1.running_var\", \"layer4.0.bn1.num_batches_tracked\", \"layer4.0.conv2.weight\", \"layer4.0.bn2.weight\", \"layer4.0.bn2.bias\", \"layer4.0.bn2.running_mean\", \"layer4.0.bn2.running_var\", \"layer4.0.bn2.num_batches_tracked\", \"layer4.0.conv3.weight\", \"layer4.0.bn3.weight\", \"layer4.0.bn3.bias\", \"layer4.0.bn3.running_mean\", \"layer4.0.bn3.running_var\", \"layer4.0.bn3.num_batches_tracked\", \"layer4.0.downsample.0.weight\", \"layer4.0.downsample.1.weight\", \"layer4.0.downsample.1.bias\", \"layer4.0.downsample.1.running_mean\", \"layer4.0.downsample.1.running_var\", \"layer4.0.downsample.1.num_batches_tracked\", \"layer4.1.conv1.weight\", \"layer4.1.bn1.weight\", \"layer4.1.bn1.bias\", \"layer4.1.bn1.running_mean\", \"layer4.1.bn1.running_var\", \"layer4.1.bn1.num_batches_tracked\", \"layer4.1.conv2.weight\", \"layer4.1.bn2.weight\", \"layer4.1.bn2.bias\", \"layer4.1.bn2.running_mean\", \"layer4.1.bn2.running_var\", \"layer4.1.bn2.num_batches_tracked\", \"layer4.1.conv3.weight\", \"layer4.1.bn3.weight\", \"layer4.1.bn3.bias\", \"layer4.1.bn3.running_mean\", \"layer4.1.bn3.running_var\", \"layer4.1.bn3.num_batches_tracked\", \"layer4.2.conv1.weight\", \"layer4.2.bn1.weight\", \"layer4.2.bn1.bias\", \"layer4.2.bn1.running_mean\", \"layer4.2.bn1.running_var\", \"layer4.2.bn1.num_batches_tracked\", \"layer4.2.conv2.weight\", \"layer4.2.bn2.weight\", \"layer4.2.bn2.bias\", \"layer4.2.bn2.running_mean\", \"layer4.2.bn2.running_var\", \"layer4.2.bn2.num_batches_tracked\", \"layer4.2.conv3.weight\", \"layer4.2.bn3.weight\", \"layer4.2.bn3.bias\", \"layer4.2.bn3.running_mean\", \"layer4.2.bn3.running_var\", \"layer4.2.bn3.num_batches_tracked\", \"fc.weight\", \"fc.bias\". ",
     "output_type": "error",
     "traceback": [
      "\u001b[0;31m---------------------------------------------------------------------------\u001b[0m",
      "\u001b[0;31mRuntimeError\u001b[0m                              Traceback (most recent call last)",
      "Cell \u001b[0;32mIn[3], line 8\u001b[0m\n\u001b[1;32m      5\u001b[0m num_features \u001b[38;5;241m=\u001b[39m model\u001b[38;5;241m.\u001b[39mclassifier[\u001b[38;5;241m3\u001b[39m]\u001b[38;5;241m.\u001b[39min_features\n\u001b[1;32m      6\u001b[0m model\u001b[38;5;241m.\u001b[39mclassifier[\u001b[38;5;241m3\u001b[39m] \u001b[38;5;241m=\u001b[39m nn\u001b[38;5;241m.\u001b[39mLinear(num_features, \u001b[38;5;241m2\u001b[39m)\n\u001b[0;32m----> 8\u001b[0m \u001b[43mmodel\u001b[49m\u001b[38;5;241;43m.\u001b[39;49m\u001b[43mload_state_dict\u001b[49m\u001b[43m(\u001b[49m\u001b[43mtorch\u001b[49m\u001b[38;5;241;43m.\u001b[39;49m\u001b[43mload\u001b[49m\u001b[43m(\u001b[49m\u001b[38;5;124;43m'\u001b[39;49m\u001b[38;5;124;43mmodel.pth\u001b[39;49m\u001b[38;5;124;43m'\u001b[39;49m\u001b[43m)\u001b[49m\u001b[43m)\u001b[49m\n\u001b[1;32m      9\u001b[0m model\u001b[38;5;241m.\u001b[39meval()\n\u001b[1;32m     11\u001b[0m \u001b[38;5;66;03m# print training stats\u001b[39;00m\n",
      "File \u001b[0;32m/opt/anaconda3/envs/Torch-Test/lib/python3.10/site-packages/torch/nn/modules/module.py:2584\u001b[0m, in \u001b[0;36mModule.load_state_dict\u001b[0;34m(self, state_dict, strict, assign)\u001b[0m\n\u001b[1;32m   2576\u001b[0m         error_msgs\u001b[38;5;241m.\u001b[39minsert(\n\u001b[1;32m   2577\u001b[0m             \u001b[38;5;241m0\u001b[39m,\n\u001b[1;32m   2578\u001b[0m             \u001b[38;5;124m\"\u001b[39m\u001b[38;5;124mMissing key(s) in state_dict: \u001b[39m\u001b[38;5;132;01m{}\u001b[39;00m\u001b[38;5;124m. \u001b[39m\u001b[38;5;124m\"\u001b[39m\u001b[38;5;241m.\u001b[39mformat(\n\u001b[1;32m   2579\u001b[0m                 \u001b[38;5;124m\"\u001b[39m\u001b[38;5;124m, \u001b[39m\u001b[38;5;124m\"\u001b[39m\u001b[38;5;241m.\u001b[39mjoin(\u001b[38;5;124mf\u001b[39m\u001b[38;5;124m'\u001b[39m\u001b[38;5;124m\"\u001b[39m\u001b[38;5;132;01m{\u001b[39;00mk\u001b[38;5;132;01m}\u001b[39;00m\u001b[38;5;124m\"\u001b[39m\u001b[38;5;124m'\u001b[39m \u001b[38;5;28;01mfor\u001b[39;00m k \u001b[38;5;129;01min\u001b[39;00m missing_keys)\n\u001b[1;32m   2580\u001b[0m             ),\n\u001b[1;32m   2581\u001b[0m         )\n\u001b[1;32m   2583\u001b[0m \u001b[38;5;28;01mif\u001b[39;00m \u001b[38;5;28mlen\u001b[39m(error_msgs) \u001b[38;5;241m>\u001b[39m \u001b[38;5;241m0\u001b[39m:\n\u001b[0;32m-> 2584\u001b[0m     \u001b[38;5;28;01mraise\u001b[39;00m \u001b[38;5;167;01mRuntimeError\u001b[39;00m(\n\u001b[1;32m   2585\u001b[0m         \u001b[38;5;124m\"\u001b[39m\u001b[38;5;124mError(s) in loading state_dict for \u001b[39m\u001b[38;5;132;01m{}\u001b[39;00m\u001b[38;5;124m:\u001b[39m\u001b[38;5;130;01m\\n\u001b[39;00m\u001b[38;5;130;01m\\t\u001b[39;00m\u001b[38;5;132;01m{}\u001b[39;00m\u001b[38;5;124m\"\u001b[39m\u001b[38;5;241m.\u001b[39mformat(\n\u001b[1;32m   2586\u001b[0m             \u001b[38;5;28mself\u001b[39m\u001b[38;5;241m.\u001b[39m\u001b[38;5;18m__class__\u001b[39m\u001b[38;5;241m.\u001b[39m\u001b[38;5;18m__name__\u001b[39m, \u001b[38;5;124m\"\u001b[39m\u001b[38;5;130;01m\\n\u001b[39;00m\u001b[38;5;130;01m\\t\u001b[39;00m\u001b[38;5;124m\"\u001b[39m\u001b[38;5;241m.\u001b[39mjoin(error_msgs)\n\u001b[1;32m   2587\u001b[0m         )\n\u001b[1;32m   2588\u001b[0m     )\n\u001b[1;32m   2589\u001b[0m \u001b[38;5;28;01mreturn\u001b[39;00m _IncompatibleKeys(missing_keys, unexpected_keys)\n",
      "\u001b[0;31mRuntimeError\u001b[0m: Error(s) in loading state_dict for MobileNetV3:\n\tMissing key(s) in state_dict: \"features.0.0.weight\", \"features.0.1.weight\", \"features.0.1.bias\", \"features.0.1.running_mean\", \"features.0.1.running_var\", \"features.1.block.0.0.weight\", \"features.1.block.0.1.weight\", \"features.1.block.0.1.bias\", \"features.1.block.0.1.running_mean\", \"features.1.block.0.1.running_var\", \"features.1.block.1.fc1.weight\", \"features.1.block.1.fc1.bias\", \"features.1.block.1.fc2.weight\", \"features.1.block.1.fc2.bias\", \"features.1.block.2.0.weight\", \"features.1.block.2.1.weight\", \"features.1.block.2.1.bias\", \"features.1.block.2.1.running_mean\", \"features.1.block.2.1.running_var\", \"features.2.block.0.0.weight\", \"features.2.block.0.1.weight\", \"features.2.block.0.1.bias\", \"features.2.block.0.1.running_mean\", \"features.2.block.0.1.running_var\", \"features.2.block.1.0.weight\", \"features.2.block.1.1.weight\", \"features.2.block.1.1.bias\", \"features.2.block.1.1.running_mean\", \"features.2.block.1.1.running_var\", \"features.2.block.2.0.weight\", \"features.2.block.2.1.weight\", \"features.2.block.2.1.bias\", \"features.2.block.2.1.running_mean\", \"features.2.block.2.1.running_var\", \"features.3.block.0.0.weight\", \"features.3.block.0.1.weight\", \"features.3.block.0.1.bias\", \"features.3.block.0.1.running_mean\", \"features.3.block.0.1.running_var\", \"features.3.block.1.0.weight\", \"features.3.block.1.1.weight\", \"features.3.block.1.1.bias\", \"features.3.block.1.1.running_mean\", \"features.3.block.1.1.running_var\", \"features.3.block.2.0.weight\", \"features.3.block.2.1.weight\", \"features.3.block.2.1.bias\", \"features.3.block.2.1.running_mean\", \"features.3.block.2.1.running_var\", \"features.4.block.0.0.weight\", \"features.4.block.0.1.weight\", \"features.4.block.0.1.bias\", \"features.4.block.0.1.running_mean\", \"features.4.block.0.1.running_var\", \"features.4.block.1.0.weight\", \"features.4.block.1.1.weight\", \"features.4.block.1.1.bias\", \"features.4.block.1.1.running_mean\", \"features.4.block.1.1.running_var\", \"features.4.block.2.fc1.weight\", \"features.4.block.2.fc1.bias\", \"features.4.block.2.fc2.weight\", \"features.4.block.2.fc2.bias\", \"features.4.block.3.0.weight\", \"features.4.block.3.1.weight\", \"features.4.block.3.1.bias\", \"features.4.block.3.1.running_mean\", \"features.4.block.3.1.running_var\", \"features.5.block.0.0.weight\", \"features.5.block.0.1.weight\", \"features.5.block.0.1.bias\", \"features.5.block.0.1.running_mean\", \"features.5.block.0.1.running_var\", \"features.5.block.1.0.weight\", \"features.5.block.1.1.weight\", \"features.5.block.1.1.bias\", \"features.5.block.1.1.running_mean\", \"features.5.block.1.1.running_var\", \"features.5.block.2.fc1.weight\", \"features.5.block.2.fc1.bias\", \"features.5.block.2.fc2.weight\", \"features.5.block.2.fc2.bias\", \"features.5.block.3.0.weight\", \"features.5.block.3.1.weight\", \"features.5.block.3.1.bias\", \"features.5.block.3.1.running_mean\", \"features.5.block.3.1.running_var\", \"features.6.block.0.0.weight\", \"features.6.block.0.1.weight\", \"features.6.block.0.1.bias\", \"features.6.block.0.1.running_mean\", \"features.6.block.0.1.running_var\", \"features.6.block.1.0.weight\", \"features.6.block.1.1.weight\", \"features.6.block.1.1.bias\", \"features.6.block.1.1.running_mean\", \"features.6.block.1.1.running_var\", \"features.6.block.2.fc1.weight\", \"features.6.block.2.fc1.bias\", \"features.6.block.2.fc2.weight\", \"features.6.block.2.fc2.bias\", \"features.6.block.3.0.weight\", \"features.6.block.3.1.weight\", \"features.6.block.3.1.bias\", \"features.6.block.3.1.running_mean\", \"features.6.block.3.1.running_var\", \"features.7.block.0.0.weight\", \"features.7.block.0.1.weight\", \"features.7.block.0.1.bias\", \"features.7.block.0.1.running_mean\", \"features.7.block.0.1.running_var\", \"features.7.block.1.0.weight\", \"features.7.block.1.1.weight\", \"features.7.block.1.1.bias\", \"features.7.block.1.1.running_mean\", \"features.7.block.1.1.running_var\", \"features.7.block.2.fc1.weight\", \"features.7.block.2.fc1.bias\", \"features.7.block.2.fc2.weight\", \"features.7.block.2.fc2.bias\", \"features.7.block.3.0.weight\", \"features.7.block.3.1.weight\", \"features.7.block.3.1.bias\", \"features.7.block.3.1.running_mean\", \"features.7.block.3.1.running_var\", \"features.8.block.0.0.weight\", \"features.8.block.0.1.weight\", \"features.8.block.0.1.bias\", \"features.8.block.0.1.running_mean\", \"features.8.block.0.1.running_var\", \"features.8.block.1.0.weight\", \"features.8.block.1.1.weight\", \"features.8.block.1.1.bias\", \"features.8.block.1.1.running_mean\", \"features.8.block.1.1.running_var\", \"features.8.block.2.fc1.weight\", \"features.8.block.2.fc1.bias\", \"features.8.block.2.fc2.weight\", \"features.8.block.2.fc2.bias\", \"features.8.block.3.0.weight\", \"features.8.block.3.1.weight\", \"features.8.block.3.1.bias\", \"features.8.block.3.1.running_mean\", \"features.8.block.3.1.running_var\", \"features.9.block.0.0.weight\", \"features.9.block.0.1.weight\", \"features.9.block.0.1.bias\", \"features.9.block.0.1.running_mean\", \"features.9.block.0.1.running_var\", \"features.9.block.1.0.weight\", \"features.9.block.1.1.weight\", \"features.9.block.1.1.bias\", \"features.9.block.1.1.running_mean\", \"features.9.block.1.1.running_var\", \"features.9.block.2.fc1.weight\", \"features.9.block.2.fc1.bias\", \"features.9.block.2.fc2.weight\", \"features.9.block.2.fc2.bias\", \"features.9.block.3.0.weight\", \"features.9.block.3.1.weight\", \"features.9.block.3.1.bias\", \"features.9.block.3.1.running_mean\", \"features.9.block.3.1.running_var\", \"features.10.block.0.0.weight\", \"features.10.block.0.1.weight\", \"features.10.block.0.1.bias\", \"features.10.block.0.1.running_mean\", \"features.10.block.0.1.running_var\", \"features.10.block.1.0.weight\", \"features.10.block.1.1.weight\", \"features.10.block.1.1.bias\", \"features.10.block.1.1.running_mean\", \"features.10.block.1.1.running_var\", \"features.10.block.2.fc1.weight\", \"features.10.block.2.fc1.bias\", \"features.10.block.2.fc2.weight\", \"features.10.block.2.fc2.bias\", \"features.10.block.3.0.weight\", \"features.10.block.3.1.weight\", \"features.10.block.3.1.bias\", \"features.10.block.3.1.running_mean\", \"features.10.block.3.1.running_var\", \"features.11.block.0.0.weight\", \"features.11.block.0.1.weight\", \"features.11.block.0.1.bias\", \"features.11.block.0.1.running_mean\", \"features.11.block.0.1.running_var\", \"features.11.block.1.0.weight\", \"features.11.block.1.1.weight\", \"features.11.block.1.1.bias\", \"features.11.block.1.1.running_mean\", \"features.11.block.1.1.running_var\", \"features.11.block.2.fc1.weight\", \"features.11.block.2.fc1.bias\", \"features.11.block.2.fc2.weight\", \"features.11.block.2.fc2.bias\", \"features.11.block.3.0.weight\", \"features.11.block.3.1.weight\", \"features.11.block.3.1.bias\", \"features.11.block.3.1.running_mean\", \"features.11.block.3.1.running_var\", \"features.12.0.weight\", \"features.12.1.weight\", \"features.12.1.bias\", \"features.12.1.running_mean\", \"features.12.1.running_var\", \"classifier.0.weight\", \"classifier.0.bias\", \"classifier.3.weight\", \"classifier.3.bias\". \n\tUnexpected key(s) in state_dict: \"conv1.weight\", \"bn1.weight\", \"bn1.bias\", \"bn1.running_mean\", \"bn1.running_var\", \"bn1.num_batches_tracked\", \"layer1.0.conv1.weight\", \"layer1.0.bn1.weight\", \"layer1.0.bn1.bias\", \"layer1.0.bn1.running_mean\", \"layer1.0.bn1.running_var\", \"layer1.0.bn1.num_batches_tracked\", \"layer1.0.conv2.weight\", \"layer1.0.bn2.weight\", \"layer1.0.bn2.bias\", \"layer1.0.bn2.running_mean\", \"layer1.0.bn2.running_var\", \"layer1.0.bn2.num_batches_tracked\", \"layer1.0.conv3.weight\", \"layer1.0.bn3.weight\", \"layer1.0.bn3.bias\", \"layer1.0.bn3.running_mean\", \"layer1.0.bn3.running_var\", \"layer1.0.bn3.num_batches_tracked\", \"layer1.0.downsample.0.weight\", \"layer1.0.downsample.1.weight\", \"layer1.0.downsample.1.bias\", \"layer1.0.downsample.1.running_mean\", \"layer1.0.downsample.1.running_var\", \"layer1.0.downsample.1.num_batches_tracked\", \"layer1.1.conv1.weight\", \"layer1.1.bn1.weight\", \"layer1.1.bn1.bias\", \"layer1.1.bn1.running_mean\", \"layer1.1.bn1.running_var\", \"layer1.1.bn1.num_batches_tracked\", \"layer1.1.conv2.weight\", \"layer1.1.bn2.weight\", \"layer1.1.bn2.bias\", \"layer1.1.bn2.running_mean\", \"layer1.1.bn2.running_var\", \"layer1.1.bn2.num_batches_tracked\", \"layer1.1.conv3.weight\", \"layer1.1.bn3.weight\", \"layer1.1.bn3.bias\", \"layer1.1.bn3.running_mean\", \"layer1.1.bn3.running_var\", \"layer1.1.bn3.num_batches_tracked\", \"layer1.2.conv1.weight\", \"layer1.2.bn1.weight\", \"layer1.2.bn1.bias\", \"layer1.2.bn1.running_mean\", \"layer1.2.bn1.running_var\", \"layer1.2.bn1.num_batches_tracked\", \"layer1.2.conv2.weight\", \"layer1.2.bn2.weight\", \"layer1.2.bn2.bias\", \"layer1.2.bn2.running_mean\", \"layer1.2.bn2.running_var\", \"layer1.2.bn2.num_batches_tracked\", \"layer1.2.conv3.weight\", \"layer1.2.bn3.weight\", \"layer1.2.bn3.bias\", \"layer1.2.bn3.running_mean\", \"layer1.2.bn3.running_var\", \"layer1.2.bn3.num_batches_tracked\", \"layer2.0.conv1.weight\", \"layer2.0.bn1.weight\", \"layer2.0.bn1.bias\", \"layer2.0.bn1.running_mean\", \"layer2.0.bn1.running_var\", \"layer2.0.bn1.num_batches_tracked\", \"layer2.0.conv2.weight\", \"layer2.0.bn2.weight\", \"layer2.0.bn2.bias\", \"layer2.0.bn2.running_mean\", \"layer2.0.bn2.running_var\", \"layer2.0.bn2.num_batches_tracked\", \"layer2.0.conv3.weight\", \"layer2.0.bn3.weight\", \"layer2.0.bn3.bias\", \"layer2.0.bn3.running_mean\", \"layer2.0.bn3.running_var\", \"layer2.0.bn3.num_batches_tracked\", \"layer2.0.downsample.0.weight\", \"layer2.0.downsample.1.weight\", \"layer2.0.downsample.1.bias\", \"layer2.0.downsample.1.running_mean\", \"layer2.0.downsample.1.running_var\", \"layer2.0.downsample.1.num_batches_tracked\", \"layer2.1.conv1.weight\", \"layer2.1.bn1.weight\", \"layer2.1.bn1.bias\", \"layer2.1.bn1.running_mean\", \"layer2.1.bn1.running_var\", \"layer2.1.bn1.num_batches_tracked\", \"layer2.1.conv2.weight\", \"layer2.1.bn2.weight\", \"layer2.1.bn2.bias\", \"layer2.1.bn2.running_mean\", \"layer2.1.bn2.running_var\", \"layer2.1.bn2.num_batches_tracked\", \"layer2.1.conv3.weight\", \"layer2.1.bn3.weight\", \"layer2.1.bn3.bias\", \"layer2.1.bn3.running_mean\", \"layer2.1.bn3.running_var\", \"layer2.1.bn3.num_batches_tracked\", \"layer2.2.conv1.weight\", \"layer2.2.bn1.weight\", \"layer2.2.bn1.bias\", \"layer2.2.bn1.running_mean\", \"layer2.2.bn1.running_var\", \"layer2.2.bn1.num_batches_tracked\", \"layer2.2.conv2.weight\", \"layer2.2.bn2.weight\", \"layer2.2.bn2.bias\", \"layer2.2.bn2.running_mean\", \"layer2.2.bn2.running_var\", \"layer2.2.bn2.num_batches_tracked\", \"layer2.2.conv3.weight\", \"layer2.2.bn3.weight\", \"layer2.2.bn3.bias\", \"layer2.2.bn3.running_mean\", \"layer2.2.bn3.running_var\", \"layer2.2.bn3.num_batches_tracked\", \"layer2.3.conv1.weight\", \"layer2.3.bn1.weight\", \"layer2.3.bn1.bias\", \"layer2.3.bn1.running_mean\", \"layer2.3.bn1.running_var\", \"layer2.3.bn1.num_batches_tracked\", \"layer2.3.conv2.weight\", \"layer2.3.bn2.weight\", \"layer2.3.bn2.bias\", \"layer2.3.bn2.running_mean\", \"layer2.3.bn2.running_var\", \"layer2.3.bn2.num_batches_tracked\", \"layer2.3.conv3.weight\", \"layer2.3.bn3.weight\", \"layer2.3.bn3.bias\", \"layer2.3.bn3.running_mean\", \"layer2.3.bn3.running_var\", \"layer2.3.bn3.num_batches_tracked\", \"layer3.0.conv1.weight\", \"layer3.0.bn1.weight\", \"layer3.0.bn1.bias\", \"layer3.0.bn1.running_mean\", \"layer3.0.bn1.running_var\", \"layer3.0.bn1.num_batches_tracked\", \"layer3.0.conv2.weight\", \"layer3.0.bn2.weight\", \"layer3.0.bn2.bias\", \"layer3.0.bn2.running_mean\", \"layer3.0.bn2.running_var\", \"layer3.0.bn2.num_batches_tracked\", \"layer3.0.conv3.weight\", \"layer3.0.bn3.weight\", \"layer3.0.bn3.bias\", \"layer3.0.bn3.running_mean\", \"layer3.0.bn3.running_var\", \"layer3.0.bn3.num_batches_tracked\", \"layer3.0.downsample.0.weight\", \"layer3.0.downsample.1.weight\", \"layer3.0.downsample.1.bias\", \"layer3.0.downsample.1.running_mean\", \"layer3.0.downsample.1.running_var\", \"layer3.0.downsample.1.num_batches_tracked\", \"layer3.1.conv1.weight\", \"layer3.1.bn1.weight\", \"layer3.1.bn1.bias\", \"layer3.1.bn1.running_mean\", \"layer3.1.bn1.running_var\", \"layer3.1.bn1.num_batches_tracked\", \"layer3.1.conv2.weight\", \"layer3.1.bn2.weight\", \"layer3.1.bn2.bias\", \"layer3.1.bn2.running_mean\", \"layer3.1.bn2.running_var\", \"layer3.1.bn2.num_batches_tracked\", \"layer3.1.conv3.weight\", \"layer3.1.bn3.weight\", \"layer3.1.bn3.bias\", \"layer3.1.bn3.running_mean\", \"layer3.1.bn3.running_var\", \"layer3.1.bn3.num_batches_tracked\", \"layer3.2.conv1.weight\", \"layer3.2.bn1.weight\", \"layer3.2.bn1.bias\", \"layer3.2.bn1.running_mean\", \"layer3.2.bn1.running_var\", \"layer3.2.bn1.num_batches_tracked\", \"layer3.2.conv2.weight\", \"layer3.2.bn2.weight\", \"layer3.2.bn2.bias\", \"layer3.2.bn2.running_mean\", \"layer3.2.bn2.running_var\", \"layer3.2.bn2.num_batches_tracked\", \"layer3.2.conv3.weight\", \"layer3.2.bn3.weight\", \"layer3.2.bn3.bias\", \"layer3.2.bn3.running_mean\", \"layer3.2.bn3.running_var\", \"layer3.2.bn3.num_batches_tracked\", \"layer3.3.conv1.weight\", \"layer3.3.bn1.weight\", \"layer3.3.bn1.bias\", \"layer3.3.bn1.running_mean\", \"layer3.3.bn1.running_var\", \"layer3.3.bn1.num_batches_tracked\", \"layer3.3.conv2.weight\", \"layer3.3.bn2.weight\", \"layer3.3.bn2.bias\", \"layer3.3.bn2.running_mean\", \"layer3.3.bn2.running_var\", \"layer3.3.bn2.num_batches_tracked\", \"layer3.3.conv3.weight\", \"layer3.3.bn3.weight\", \"layer3.3.bn3.bias\", \"layer3.3.bn3.running_mean\", \"layer3.3.bn3.running_var\", \"layer3.3.bn3.num_batches_tracked\", \"layer3.4.conv1.weight\", \"layer3.4.bn1.weight\", \"layer3.4.bn1.bias\", \"layer3.4.bn1.running_mean\", \"layer3.4.bn1.running_var\", \"layer3.4.bn1.num_batches_tracked\", \"layer3.4.conv2.weight\", \"layer3.4.bn2.weight\", \"layer3.4.bn2.bias\", \"layer3.4.bn2.running_mean\", \"layer3.4.bn2.running_var\", \"layer3.4.bn2.num_batches_tracked\", \"layer3.4.conv3.weight\", \"layer3.4.bn3.weight\", \"layer3.4.bn3.bias\", \"layer3.4.bn3.running_mean\", \"layer3.4.bn3.running_var\", \"layer3.4.bn3.num_batches_tracked\", \"layer3.5.conv1.weight\", \"layer3.5.bn1.weight\", \"layer3.5.bn1.bias\", \"layer3.5.bn1.running_mean\", \"layer3.5.bn1.running_var\", \"layer3.5.bn1.num_batches_tracked\", \"layer3.5.conv2.weight\", \"layer3.5.bn2.weight\", \"layer3.5.bn2.bias\", \"layer3.5.bn2.running_mean\", \"layer3.5.bn2.running_var\", \"layer3.5.bn2.num_batches_tracked\", \"layer3.5.conv3.weight\", \"layer3.5.bn3.weight\", \"layer3.5.bn3.bias\", \"layer3.5.bn3.running_mean\", \"layer3.5.bn3.running_var\", \"layer3.5.bn3.num_batches_tracked\", \"layer4.0.conv1.weight\", \"layer4.0.bn1.weight\", \"layer4.0.bn1.bias\", \"layer4.0.bn1.running_mean\", \"layer4.0.bn1.running_var\", \"layer4.0.bn1.num_batches_tracked\", \"layer4.0.conv2.weight\", \"layer4.0.bn2.weight\", \"layer4.0.bn2.bias\", \"layer4.0.bn2.running_mean\", \"layer4.0.bn2.running_var\", \"layer4.0.bn2.num_batches_tracked\", \"layer4.0.conv3.weight\", \"layer4.0.bn3.weight\", \"layer4.0.bn3.bias\", \"layer4.0.bn3.running_mean\", \"layer4.0.bn3.running_var\", \"layer4.0.bn3.num_batches_tracked\", \"layer4.0.downsample.0.weight\", \"layer4.0.downsample.1.weight\", \"layer4.0.downsample.1.bias\", \"layer4.0.downsample.1.running_mean\", \"layer4.0.downsample.1.running_var\", \"layer4.0.downsample.1.num_batches_tracked\", \"layer4.1.conv1.weight\", \"layer4.1.bn1.weight\", \"layer4.1.bn1.bias\", \"layer4.1.bn1.running_mean\", \"layer4.1.bn1.running_var\", \"layer4.1.bn1.num_batches_tracked\", \"layer4.1.conv2.weight\", \"layer4.1.bn2.weight\", \"layer4.1.bn2.bias\", \"layer4.1.bn2.running_mean\", \"layer4.1.bn2.running_var\", \"layer4.1.bn2.num_batches_tracked\", \"layer4.1.conv3.weight\", \"layer4.1.bn3.weight\", \"layer4.1.bn3.bias\", \"layer4.1.bn3.running_mean\", \"layer4.1.bn3.running_var\", \"layer4.1.bn3.num_batches_tracked\", \"layer4.2.conv1.weight\", \"layer4.2.bn1.weight\", \"layer4.2.bn1.bias\", \"layer4.2.bn1.running_mean\", \"layer4.2.bn1.running_var\", \"layer4.2.bn1.num_batches_tracked\", \"layer4.2.conv2.weight\", \"layer4.2.bn2.weight\", \"layer4.2.bn2.bias\", \"layer4.2.bn2.running_mean\", \"layer4.2.bn2.running_var\", \"layer4.2.bn2.num_batches_tracked\", \"layer4.2.conv3.weight\", \"layer4.2.bn3.weight\", \"layer4.2.bn3.bias\", \"layer4.2.bn3.running_mean\", \"layer4.2.bn3.running_var\", \"layer4.2.bn3.num_batches_tracked\", \"fc.weight\", \"fc.bias\". "
     ]
    }
   ],
   "source": [
    "# load model\n",
    "\n",
    "# model = models.efficientnet_b0(pretrained=False)\n",
    "model = models.mobilenet_v3_small(weights=MobileNet_V3_Small_Weights.DEFAULT)\n",
    "num_features = model.classifier[3].in_features\n",
    "model.classifier[3] = nn.Linear(num_features, 2)\n",
    "\n",
    "model.load_state_dict(torch.load('model.pth'))\n",
    "model.eval()\n",
    "\n",
    "# print training stats\n",
    "print(\"Model's state_dict:\")\n",
    "for param_tensor in model.state_dict():\n",
    "    print(param_tensor, \"\\t\", model.state_dict()[param_tensor].size())\n"
   ]
  },
  {
   "cell_type": "code",
   "execution_count": 88,
   "id": "3e3b33fa006607da",
   "metadata": {
    "ExecuteTime": {
     "end_time": "2024-11-13T09:54:24.004894Z",
     "start_time": "2024-11-13T09:54:24.002785Z"
    }
   },
   "outputs": [],
   "source": [
    "def inference_on_test(model, test_folder_path):\n",
    "    model.eval()\n",
    "    test_transforms = data_transforms['test']\n",
    "    test_images = datasets.ImageFolder(root=test_folder_path, transform=test_transforms)\n",
    "    test_loader = DataLoader(test_images, batch_size=1, shuffle=False)\n",
    "\n",
    "    file_names = []\n",
    "    predictions = []\n",
    "    with torch.no_grad():\n",
    "        for i, (inputs, _) in enumerate(test_loader):\n",
    "            inputs = inputs.to(device)\n",
    "            outputs = model(inputs)\n",
    "            _, preds = torch.max(outputs, 1)\n",
    "\n",
    "            # Get the file name from the test_images dataset\n",
    "            file_name = test_images.samples[i][0]\n",
    "            file_names.append(file_name)\n",
    "            predictions.append(preds.item())\n",
    "\n",
    "    return file_names, predictions"
   ]
  },
  {
   "cell_type": "code",
   "execution_count": 89,
   "id": "d119765b",
   "metadata": {},
   "outputs": [],
   "source": [
    "with open('class_to_idx.json', 'r') as f:\n",
    "    class_to_idx = json.load(f)"
   ]
  },
  {
   "cell_type": "code",
   "execution_count": 90,
   "id": "b8ad2b36",
   "metadata": {},
   "outputs": [
    {
     "name": "stdout",
     "output_type": "stream",
     "text": [
      "ID-to-Class mapping: {0: 'AI_GENERATED', 1: 'NON_AI_GENERATED'}\n"
     ]
    }
   ],
   "source": [
    "idx_to_class = {v: k for k, v in class_to_idx.items()}\n",
    "print(\"ID-to-Class mapping:\", idx_to_class)"
   ]
  },
  {
   "cell_type": "code",
   "execution_count": null,
   "id": "880050771433601d",
   "metadata": {
    "ExecuteTime": {
     "end_time": "2024-11-13T09:58:26.048707Z",
     "start_time": "2024-11-13T09:58:25.778048Z"
    }
   },
   "outputs": [
    {
     "name": "stdout",
     "output_type": "stream",
     "text": [
      "Predictions for test images: [0, 1, 0, 1, 0]\n",
      "Predicted labels: ['AI_GENERATED', 'NON_AI_GENERATED', 'AI_GENERATED', 'NON_AI_GENERATED', 'AI_GENERATED']\n",
      "Files: ['Test/test/1.jpg', 'Test/test/3.jpg', 'Test/test/DSC_0255.JPG', 'Test/test/Portrait .jpg', 'Test/test/apple.jpeg']\n"
     ]
    }
   ],
   "source": [
    "test_folder_path = 'Test'\n",
    "files, predictions = inference_on_test(model, test_folder_path)\n",
    "predicted_labels = [idx_to_class[pred] for pred in predictions]\n",
    "print(\"Predictions for test images:\", predictions)\n",
    "print(F\"Predicted labels: {predicted_labels}\")\n",
    "print(F\"Files: {files}\")"
   ]
  },
  {
   "cell_type": "code",
   "execution_count": null,
   "id": "f399bb51afff81ec",
   "metadata": {},
   "outputs": [],
   "source": []
  }
 ],
 "metadata": {
  "kernelspec": {
   "display_name": "Torch-Test",
   "language": "python",
   "name": "python3"
  },
  "language_info": {
   "codemirror_mode": {
    "name": "ipython",
    "version": 3
   },
   "file_extension": ".py",
   "mimetype": "text/x-python",
   "name": "python",
   "nbconvert_exporter": "python",
   "pygments_lexer": "ipython3",
   "version": "3.10.15"
  }
 },
 "nbformat": 4,
 "nbformat_minor": 5
}
